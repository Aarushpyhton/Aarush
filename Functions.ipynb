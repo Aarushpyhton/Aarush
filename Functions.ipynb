{
  "nbformat": 4,
  "nbformat_minor": 0,
  "metadata": {
    "colab": {
      "provenance": [],
      "authorship_tag": "ABX9TyN8JAqvk4G76zdNXC5EizZX",
      "include_colab_link": true
    },
    "kernelspec": {
      "name": "python3",
      "display_name": "Python 3"
    },
    "language_info": {
      "name": "python"
    }
  },
  "cells": [
    {
      "cell_type": "markdown",
      "metadata": {
        "id": "view-in-github",
        "colab_type": "text"
      },
      "source": [
        "<a href=\"https://colab.research.google.com/github/Aarushpyhton/Aarush/blob/main/Functions.ipynb\" target=\"_parent\"><img src=\"https://colab.research.google.com/assets/colab-badge.svg\" alt=\"Open In Colab\"/></a>"
      ]
    },
    {
      "cell_type": "code",
      "execution_count": null,
      "metadata": {
        "id": "5DHCCGhfvc9F",
        "colab": {
          "base_uri": "https://localhost:8080/"
        },
        "outputId": "b3320d7b-ba0c-429f-f82b-46acee068907"
      },
      "outputs": [
        {
          "output_type": "stream",
          "name": "stdout",
          "text": [
            "square of 4 is 16\n"
          ]
        }
      ],
      "source": [
        "def square(n): #call by value, call by refrence, call by address\n",
        "    s=n*n\n",
        "    return s\n",
        "x=4\n",
        "y= square(4)\n",
        "print(f\"square of {x} is {y}\")"
      ]
    },
    {
      "cell_type": "code",
      "source": [
        "def square(n):\n",
        "    s=n*n\n",
        "    return s\n",
        "x=4\n",
        "y= square(4)\n",
        "def cube (y):\n",
        "    z=y*y*y\n",
        "    return z\n",
        "a=cube(y)\n",
        "print(f'the cube of square of {x} which is {y} is {a}')"
      ],
      "metadata": {
        "colab": {
          "base_uri": "https://localhost:8080/"
        },
        "id": "oDaGJzAPDQyv",
        "outputId": "ebdff923-e8c6-43eb-cfcd-adbe2222f6bd"
      },
      "execution_count": null,
      "outputs": [
        {
          "output_type": "stream",
          "name": "stdout",
          "text": [
            "the cube of square of 4 which is 16 is 4096\n"
          ]
        }
      ]
    }
  ]
}