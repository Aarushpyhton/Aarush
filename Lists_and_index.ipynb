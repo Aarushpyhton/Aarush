{
  "nbformat": 4,
  "nbformat_minor": 0,
  "metadata": {
    "colab": {
      "provenance": [],
      "authorship_tag": "ABX9TyOBru3l38FYG6W+ZB60U0nS",
      "include_colab_link": true
    },
    "kernelspec": {
      "name": "python3",
      "display_name": "Python 3"
    },
    "language_info": {
      "name": "python"
    }
  },
  "cells": [
    {
      "cell_type": "markdown",
      "metadata": {
        "id": "view-in-github",
        "colab_type": "text"
      },
      "source": [
        "<a href=\"https://colab.research.google.com/github/Aarushpyhton/Aarush/blob/main/Lists_and_index.ipynb\" target=\"_parent\"><img src=\"https://colab.research.google.com/assets/colab-badge.svg\" alt=\"Open In Colab\"/></a>"
      ]
    },
    {
      "cell_type": "code",
      "execution_count": null,
      "metadata": {
        "colab": {
          "base_uri": "https://localhost:8080/"
        },
        "id": "ljcOgacx3EvQ",
        "outputId": "d4c6c620-da41-4788-c98b-cebc46491f49"
      },
      "outputs": [
        {
          "output_type": "stream",
          "name": "stdout",
          "text": [
            "['Red', 'Blue', 'Green', 'Black']\n",
            "Red\n",
            "Blue\n",
            "Green\n",
            "Black\n"
          ]
        }
      ],
      "source": [
        "colors = [ \"Red\", 'Blue', 'Green', 'Black']\n",
        "print(colors)\n",
        "\n",
        "print(colors[0])\n",
        "print(colors[1])\n",
        "print(colors[2])\n",
        "print(colors[3])"
      ]
    },
    {
      "cell_type": "code",
      "source": [
        "colors = [ \"Red\", 'Blue', 'Green', 'Black']\n",
        "print(colors)\n",
        "\n",
        "print(colors[-1])\n",
        "print(colors[-2])\n",
        "print(colors[-3])\n",
        "print(colors[-4])"
      ],
      "metadata": {
        "colab": {
          "base_uri": "https://localhost:8080/"
        },
        "id": "pmwXHKRY3668",
        "outputId": "7105fad3-1545-4784-afee-43647fd05f7e"
      },
      "execution_count": null,
      "outputs": [
        {
          "output_type": "stream",
          "name": "stdout",
          "text": [
            "['Red', 'Blue', 'Green', 'Black']\n",
            "Black\n",
            "Green\n",
            "Blue\n",
            "Red\n"
          ]
        }
      ]
    },
    {
      "cell_type": "code",
      "source": [
        "colors = [ \"Red\", 'Blue', 'Green', 'Black']\n",
        "print(colors)\n",
        "print(len(colors)) # telling the lenght of the list."
      ],
      "metadata": {
        "colab": {
          "base_uri": "https://localhost:8080/"
        },
        "id": "YTReSY7R4c38",
        "outputId": "96da87f8-0a0b-4c4f-ea1e-e4e5744154b0"
      },
      "execution_count": null,
      "outputs": [
        {
          "output_type": "stream",
          "name": "stdout",
          "text": [
            "['Red', 'Blue', 'Green', 'Black']\n",
            "4\n"
          ]
        }
      ]
    },
    {
      "cell_type": "code",
      "source": [
        "colors = [ \"Red\", 'Blue', 'Green', 'Black']\n",
        "print(colors)\n",
        "colors.append('white') # added an additional item.\n",
        "print(colors)"
      ],
      "metadata": {
        "colab": {
          "base_uri": "https://localhost:8080/"
        },
        "id": "IZdvcGrB4nqo",
        "outputId": "dd593a12-f551-431d-91ed-d57c6e14aefe"
      },
      "execution_count": null,
      "outputs": [
        {
          "output_type": "stream",
          "name": "stdout",
          "text": [
            "['Red', 'Blue', 'Green', 'Black']\n",
            "['Red', 'Blue', 'Green', 'Black', 'white']\n"
          ]
        }
      ]
    },
    {
      "cell_type": "code",
      "source": [
        "colors = [ \"Red\", 'Blue', 'Green', 'Black']\n",
        "print(colors)\n",
        "colors.insert(2, 'white') # adds white on the 2 position.\n",
        "print(colors)"
      ],
      "metadata": {
        "colab": {
          "base_uri": "https://localhost:8080/"
        },
        "id": "gumsw-mT42Se",
        "outputId": "528f913c-843b-4a43-ada1-390960a547fd"
      },
      "execution_count": null,
      "outputs": [
        {
          "output_type": "stream",
          "name": "stdout",
          "text": [
            "['Red', 'Blue', 'Green', 'Black']\n",
            "['Red', 'Blue', 'white', 'Green', 'Black']\n"
          ]
        }
      ]
    },
    {
      "cell_type": "code",
      "source": [
        "colors = [ \"Red\", 'Blue', 'Green', 'Black']\n",
        "print(colors)\n",
        "colors.pop(2) # removes item, on 2nd position.\n",
        "print(colors)"
      ],
      "metadata": {
        "colab": {
          "base_uri": "https://localhost:8080/"
        },
        "id": "ld4dKnC25OBP",
        "outputId": "410557f3-1bd7-4300-c7d8-981cefdde62f"
      },
      "execution_count": null,
      "outputs": [
        {
          "output_type": "stream",
          "name": "stdout",
          "text": [
            "['Red', 'Blue', 'Green', 'Black']\n",
            "['Red', 'Blue', 'Black']\n"
          ]
        }
      ]
    },
    {
      "cell_type": "code",
      "source": [
        "colors = [ \"Red\", 'Blue', 'red', 'Blue', 'Green', 'Black']\n",
        "print(colors)\n",
        "colors.remove('Blue')\n",
        "print(colors)"
      ],
      "metadata": {
        "colab": {
          "base_uri": "https://localhost:8080/"
        },
        "id": "UzRvPSQh5e6s",
        "outputId": "48ad41a1-3ee0-4aec-f0c5-73b126280e9c"
      },
      "execution_count": null,
      "outputs": [
        {
          "output_type": "stream",
          "name": "stdout",
          "text": [
            "['Red', 'Blue', 'red', 'Blue', 'Green', 'Black']\n",
            "['Red', 'red', 'Blue', 'Green', 'Black']\n"
          ]
        }
      ]
    },
    {
      "cell_type": "code",
      "source": [
        "colors = [ \"Red\", 'Blue', 'red', 'Blue', 'Green', 'Black']\n",
        "print(colors)\n",
        "print(colors.count('Blue')) # counting no of blue in the list\n",
        "print(colors.count('Black'))\n",
        "print(colors.count('White'))"
      ],
      "metadata": {
        "colab": {
          "base_uri": "https://localhost:8080/"
        },
        "id": "JTbT9L7U609t",
        "outputId": "7a272afb-a0c6-4ab7-8e5b-91420ad738c3"
      },
      "execution_count": null,
      "outputs": [
        {
          "output_type": "stream",
          "name": "stdout",
          "text": [
            "['Red', 'Blue', 'red', 'Blue', 'Green', 'Black']\n",
            "2\n",
            "1\n",
            "0\n"
          ]
        }
      ]
    },
    {
      "cell_type": "code",
      "source": [
        "colors = [ \"Red\", 'Blue', 'red', 'Blue', 'Green', 'Black']\n",
        "print(colors)\n",
        "print(colors.index('Blue'))\n",
        "print(colors.index('Black'))"
      ],
      "metadata": {
        "colab": {
          "base_uri": "https://localhost:8080/"
        },
        "id": "iHvnPE7t7Qe0",
        "outputId": "500f2e99-dc27-41ec-ac01-fd4c629b6eea"
      },
      "execution_count": null,
      "outputs": [
        {
          "output_type": "stream",
          "name": "stdout",
          "text": [
            "['Red', 'Blue', 'red', 'Blue', 'Green', 'Black']\n",
            "1\n",
            "5\n"
          ]
        }
      ]
    },
    {
      "cell_type": "code",
      "source": [
        "colors = [ \"Red\", 'Blue', 'Green', 'Black']\n",
        "print(colors)\n",
        "print('Blue' in colors) # 'in' tells if an element exist in the list or not\n",
        "print('Black' in colors)\n",
        "print('Violet' in colors)"
      ],
      "metadata": {
        "colab": {
          "base_uri": "https://localhost:8080/"
        },
        "id": "Qspmg-E29Mjk",
        "outputId": "f956079f-5501-4851-d164-23e06582a827"
      },
      "execution_count": null,
      "outputs": [
        {
          "output_type": "stream",
          "name": "stdout",
          "text": [
            "['Red', 'Blue', 'Green', 'Black']\n",
            "True\n",
            "True\n",
            "False\n"
          ]
        }
      ]
    },
    {
      "cell_type": "code",
      "source": [
        "colors = [ \"Red\", 'Blue', 'red', 'Blue', 'Green', 'Black']\n",
        "print(colors)\n",
        "colors.reverse() # Reversed the whole list\n",
        "print(colors)"
      ],
      "metadata": {
        "colab": {
          "base_uri": "https://localhost:8080/"
        },
        "id": "0BJPFE_39ow0",
        "outputId": "62dfd6b3-991a-464b-ebad-2e322ee7fbe8"
      },
      "execution_count": null,
      "outputs": [
        {
          "output_type": "stream",
          "name": "stdout",
          "text": [
            "['Red', 'Blue', 'red', 'Blue', 'Green', 'Black']\n",
            "['Black', 'Green', 'Blue', 'red', 'Blue', 'Red']\n"
          ]
        }
      ]
    },
    {
      "cell_type": "code",
      "source": [
        "nums= [6,1.8,0.3,9,8,8.7]\n",
        "print(nums)\n",
        "nums.sort() # ascending order\n",
        "print(nums)"
      ],
      "metadata": {
        "colab": {
          "base_uri": "https://localhost:8080/"
        },
        "id": "Z81M1Ov2-WAx",
        "outputId": "b0ff9c0c-cb4b-442f-9dd5-69601f397ffc"
      },
      "execution_count": null,
      "outputs": [
        {
          "output_type": "stream",
          "name": "stdout",
          "text": [
            "[6, 1.8, 0.3, 9, 8, 8.7]\n",
            "[0.3, 1.8, 6, 8, 8.7, 9]\n"
          ]
        }
      ]
    },
    {
      "cell_type": "code",
      "source": [
        "student = {'name' : 'Rancho', 'age' : 25, 'marks' : '98.7'}\n",
        "print(student)\n",
        "print(student.keys())"
      ],
      "metadata": {
        "colab": {
          "base_uri": "https://localhost:8080/"
        },
        "id": "CP5d72uABq_0",
        "outputId": "6117cc9e-2801-408a-a2b1-bec98c1d968d"
      },
      "execution_count": null,
      "outputs": [
        {
          "output_type": "stream",
          "name": "stdout",
          "text": [
            "{'name': 'Rancho', 'age': 25, 'marks': '98.7'}\n",
            "dict_keys(['name', 'age', 'marks'])\n"
          ]
        }
      ]
    },
    {
      "cell_type": "code",
      "source": [],
      "metadata": {
        "id": "pLyvKJXvCQke"
      },
      "execution_count": null,
      "outputs": []
    }
  ]
}