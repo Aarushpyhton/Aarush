{
  "nbformat": 4,
  "nbformat_minor": 0,
  "metadata": {
    "colab": {
      "provenance": [],
      "authorship_tag": "ABX9TyOKboZoikK8yLNsQ7IeLowz",
      "include_colab_link": true
    },
    "kernelspec": {
      "name": "python3",
      "display_name": "Python 3"
    },
    "language_info": {
      "name": "python"
    }
  },
  "cells": [
    {
      "cell_type": "markdown",
      "metadata": {
        "id": "view-in-github",
        "colab_type": "text"
      },
      "source": [
        "<a href=\"https://colab.research.google.com/github/Aarushpyhton/Aarush/blob/main/shortcuts_for_statement_%2Ccalculator_%26_float_and_int_functions.ipynb\" target=\"_parent\"><img src=\"https://colab.research.google.com/assets/colab-badge.svg\" alt=\"Open In Colab\"/></a>"
      ]
    },
    {
      "cell_type": "code",
      "execution_count": null,
      "metadata": {
        "colab": {
          "base_uri": "https://localhost:8080/"
        },
        "id": "sB6B53s3cjQn",
        "outputId": "603851fa-e5a0-4ca7-bd6b-0c74256a2ec4"
      },
      "outputs": [
        {
          "output_type": "stream",
          "name": "stdout",
          "text": [
            "Addition calculator\n",
            "enter no 1 - 45\n",
            "enter no 2 - 45\n",
            "your answer is 90\n"
          ]
        }
      ],
      "source": [
        "print(\"Addition calculator\") #Heading\n",
        "num1=int(input(\"enter no 1 -\")) #First input\n",
        "num2=int(input(\"enter no 2 -\")) #second input\n",
        "print(f\"your answer is {num1+num2}\") #final output"
      ]
    },
    {
      "cell_type": "code",
      "source": [
        "print(\"calculator\") #Heading\n",
        "num1=int(input(\"enter no 1 -\")) #First input\n",
        "num2=int(input(\"enter no 2 -\")) #second input\n",
        "print(f\"{num1}+{num2}={num1+num2}\")\n",
        "print(f\"{num1}-{num2}={num1-num2}\")\n",
        "print(f\"{num1}*{num2}={num1*num2}\")\n",
        "print(f\"{num1}/{num2}={num1/num2}\")"
      ],
      "metadata": {
        "colab": {
          "base_uri": "https://localhost:8080/"
        },
        "id": "Yw3NCSaHjTDP",
        "outputId": "1c04068e-93df-4c9e-c4d2-50a5db0fce20"
      },
      "execution_count": null,
      "outputs": [
        {
          "output_type": "stream",
          "name": "stdout",
          "text": [
            "calculator\n",
            "enter no 1 - 11\n",
            "enter no 2 - 11\n",
            "11+11=22\n",
            "11-11=0\n",
            "11*11=121\n",
            "11/11=1.0\n"
          ]
        }
      ]
    },
    {
      "cell_type": "code",
      "source": [
        "print(\"hello world\")\n",
        "#this is a single lined comment\n"
      ],
      "metadata": {
        "colab": {
          "base_uri": "https://localhost:8080/"
        },
        "id": "y-QSeU_HoF4i",
        "outputId": "14247085-3ae0-42fc-9a72-5e320bd2f793"
      },
      "execution_count": null,
      "outputs": [
        {
          "output_type": "stream",
          "name": "stdout",
          "text": [
            "hello world\n"
          ]
        }
      ]
    },
    {
      "cell_type": "code",
      "source": [
        "hobby=input(\"what's your favourite hobby\")\n",
        "print(f\"that's great,{hobby} sounds like a lot of fun\")"
      ],
      "metadata": {
        "colab": {
          "base_uri": "https://localhost:8080/"
        },
        "id": "4OPltmCNo7cp",
        "outputId": "c0b3a5be-d667-435a-8067-a6af2ef44ef4"
      },
      "execution_count": null,
      "outputs": [
        {
          "output_type": "stream",
          "name": "stdout",
          "text": [
            "what's your favourite hobby guitar\n",
            "that's great, guitar sounds like a lot of fun\n"
          ]
        }
      ]
    },
    {
      "cell_type": "code",
      "source": [
        "age=input(\"what's your age\")\n",
        "print(f\"data type for age is {type(age)}\")\n",
        "age=int(age)\n",
        "print(f\"data type for age is {type(age)}\")\n",
        "age=float(age)\n",
        "print(f\"data type for age is {type(age)}\")"
      ],
      "metadata": {
        "colab": {
          "base_uri": "https://localhost:8080/"
        },
        "id": "WD5YaGv_p2rX",
        "outputId": "35fec69f-f9a0-420d-b529-4b305b215b28"
      },
      "execution_count": null,
      "outputs": [
        {
          "output_type": "stream",
          "name": "stdout",
          "text": [
            "what's your age 16\n",
            "data type for age is <class 'str'>\n",
            "data type for age is <class 'int'>\n",
            "data type for age is <class 'float'>\n"
          ]
        }
      ]
    },
    {
      "cell_type": "code",
      "source": [
        "Name=input(\"enter name\")\n",
        "Year=int(input(\"enter birth year\"))\n",
        "print(f\"hello {Name}, you are {2025-Year} years old\")"
      ],
      "metadata": {
        "colab": {
          "base_uri": "https://localhost:8080/"
        },
        "id": "fRo1zIwMr7oM",
        "outputId": "d45f93d4-7f20-42f9-be4d-31675072c84d"
      },
      "execution_count": null,
      "outputs": [
        {
          "output_type": "stream",
          "name": "stdout",
          "text": [
            "enter name AARUSH\n",
            "enter birth year 2009\n",
            "hello  AARUSH, you are 16 years old\n"
          ]
        }
      ]
    },
    {
      "cell_type": "code",
      "source": [
        "print(\"introduction\")\n",
        "\n",
        "Name=input(\"enter your name\")\n",
        "age=input(\"enter your age\")\n",
        "colour=input(\"enter your favourite colour\")\n",
        "\n",
        "print(f\"Hello {Name}, i hope you are doing well. Do you know that we have something in common, i'm {age} years old too. But, i don't much resonate with you on the basis of your colour choice of {colour}\")"
      ],
      "metadata": {
        "colab": {
          "base_uri": "https://localhost:8080/"
        },
        "id": "WKrrbRV0tmsi",
        "outputId": "49fc5f89-d6eb-42ac-8e11-0cdc3a336574"
      },
      "execution_count": null,
      "outputs": [
        {
          "output_type": "stream",
          "name": "stdout",
          "text": [
            "introduction\n",
            "enter your name AARUSH\n",
            "enter your age 16\n",
            "enter your favourite colour RED\n",
            "Hello  AARUSH, i hope you are doing well. Do you know that we have something in common, i'm  16 years old too. But, i don't much resonate with you on the basis of your colour choice of  RED\n"
          ]
        }
      ]
    },
    {
      "cell_type": "code",
      "source": [
        "num1= \"hollow\"\n",
        "num2= \"world\"\n",
        "print(f\"num1+num2={num1+num2}\")\n",
        "print(f\"num2+num1={num2+num1}\")"
      ],
      "metadata": {
        "colab": {
          "base_uri": "https://localhost:8080/"
        },
        "id": "_KVFUxG2vf8t",
        "outputId": "a88f1e3e-3e80-427f-f436-a255eadf57aa"
      },
      "execution_count": null,
      "outputs": [
        {
          "output_type": "stream",
          "name": "stdout",
          "text": [
            "num1+num2=hollowworld\n",
            "num2+num1=worldhollow\n"
          ]
        }
      ]
    },
    {
      "cell_type": "code",
      "source": [
        "x=22/7\n",
        "print(f\"x={x},{type(x)}\")\n",
        "y=int(x)\n",
        "print(f\"y={y},{type(y)}\")"
      ],
      "metadata": {
        "colab": {
          "base_uri": "https://localhost:8080/"
        },
        "id": "IGWeKJaiy_Z8",
        "outputId": "6a086848-9bce-429d-a6a8-20090c9d2de7"
      },
      "execution_count": null,
      "outputs": [
        {
          "output_type": "stream",
          "name": "stdout",
          "text": [
            "x=3.142857142857143,<class 'float'>\n",
            "y=3,<class 'int'>\n"
          ]
        }
      ]
    }
  ]
}