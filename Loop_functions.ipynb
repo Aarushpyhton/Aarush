{
  "nbformat": 4,
  "nbformat_minor": 0,
  "metadata": {
    "colab": {
      "provenance": [],
      "authorship_tag": "ABX9TyPLXQkQaOclqc3XoVYuNIyQ",
      "include_colab_link": true
    },
    "kernelspec": {
      "name": "python3",
      "display_name": "Python 3"
    },
    "language_info": {
      "name": "python"
    }
  },
  "cells": [
    {
      "cell_type": "markdown",
      "metadata": {
        "id": "view-in-github",
        "colab_type": "text"
      },
      "source": [
        "<a href=\"https://colab.research.google.com/github/Aarushpyhton/Aarush/blob/main/Loop_functions.ipynb\" target=\"_parent\"><img src=\"https://colab.research.google.com/assets/colab-badge.svg\" alt=\"Open In Colab\"/></a>"
      ]
    },
    {
      "cell_type": "code",
      "execution_count": null,
      "metadata": {
        "id": "t_xyQs2yhHHY",
        "colab": {
          "base_uri": "https://localhost:8080/"
        },
        "outputId": "cc9b8fd9-0fa7-40c7-872c-b287593375fa"
      },
      "outputs": [
        {
          "output_type": "stream",
          "name": "stdout",
          "text": [
            "age = 13, status = ineligible\n",
            "age = 14, status = ineligible\n",
            "age = 15, status = ineligible\n",
            "age = 16, status = ineligible\n",
            "age = 17, status = ineligible\n",
            "age = 18, status = eligible\n"
          ]
        }
      ],
      "source": [
        "age = 13\n",
        "while(age < 18):\n",
        "  print(f\"age = {age}, status = ineligible\")\n",
        "  age = age +1\n",
        "print(f\"age = {age}, status = eligible\")"
      ]
    },
    {
      "cell_type": "code",
      "source": [
        "condition = False\n",
        "print(condition)\n",
        "\n",
        "print(1)\n",
        "while (condition):\n",
        "  print(2)\n",
        "print(3)"
      ],
      "metadata": {
        "colab": {
          "base_uri": "https://localhost:8080/"
        },
        "id": "RkAHUBi8lcdL",
        "outputId": "248e1095-cf7f-410b-bb40-3029b0413a38"
      },
      "execution_count": null,
      "outputs": [
        {
          "output_type": "stream",
          "name": "stdout",
          "text": [
            "False\n",
            "1\n",
            "3\n"
          ]
        }
      ]
    },
    {
      "cell_type": "code",
      "source": [
        "condition = True\n",
        "print(condition)\n",
        "\n",
        "print(1)\n",
        "while (condition):\n",
        "  print(2)\n",
        "print(3)"
      ],
      "metadata": {
        "colab": {
          "base_uri": "https://localhost:8080/"
        },
        "id": "fV2xdgHVlzis",
        "outputId": "1c3196bf-67a1-4d54-969c-c142b8432e15"
      },
      "execution_count": null,
      "outputs": [
        {
          "output_type": "stream",
          "name": "stdout",
          "text": [
            "False\n",
            "1\n",
            "3\n"
          ]
        }
      ]
    },
    {
      "cell_type": "code",
      "source": [
        "import random\n",
        "\n",
        "roll= random.randint(1,6)\n",
        "print(f\"roll = {roll}\")\n",
        "while (roll!=6):\n",
        "   roll= random.randint(1,6)\n",
        "   print(f\"roll={roll}\")\n",
        "print(\"game over\")"
      ],
      "metadata": {
        "colab": {
          "base_uri": "https://localhost:8080/"
        },
        "id": "qc5zMmjemK0k",
        "outputId": "2a754295-5139-4563-eea6-70584bbd7f4f"
      },
      "execution_count": null,
      "outputs": [
        {
          "output_type": "stream",
          "name": "stdout",
          "text": [
            "roll = 1\n",
            "roll=4\n",
            "roll=1\n",
            "roll=1\n",
            "roll=4\n",
            "roll=1\n",
            "roll=1\n",
            "roll=3\n",
            "roll=1\n",
            "roll=2\n",
            "roll=1\n",
            "roll=1\n",
            "roll=4\n",
            "roll=5\n",
            "roll=3\n",
            "roll=5\n",
            "roll=4\n",
            "roll=3\n",
            "roll=4\n",
            "roll=4\n",
            "roll=6\n",
            "game over\n"
          ]
        }
      ]
    }
  ]
}