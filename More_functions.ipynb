{
  "nbformat": 4,
  "nbformat_minor": 0,
  "metadata": {
    "colab": {
      "provenance": [],
      "authorship_tag": "ABX9TyPTYh428bWSa7rdRN9wYP+w",
      "include_colab_link": true
    },
    "kernelspec": {
      "name": "python3",
      "display_name": "Python 3"
    },
    "language_info": {
      "name": "python"
    }
  },
  "cells": [
    {
      "cell_type": "markdown",
      "metadata": {
        "id": "view-in-github",
        "colab_type": "text"
      },
      "source": [
        "<a href=\"https://colab.research.google.com/github/Aarushpyhton/Aarush/blob/main/More_functions.ipynb\" target=\"_parent\"><img src=\"https://colab.research.google.com/assets/colab-badge.svg\" alt=\"Open In Colab\"/></a>"
      ]
    },
    {
      "cell_type": "code",
      "execution_count": null,
      "metadata": {
        "colab": {
          "base_uri": "https://localhost:8080/"
        },
        "id": "56PxZnhJ9BHM",
        "outputId": "33817a0d-1d96-4068-d290-df5d9a1ef7f9"
      },
      "outputs": [
        {
          "output_type": "stream",
          "name": "stdout",
          "text": [
            "paper\n"
          ]
        }
      ],
      "source": [
        "import random\n",
        "moves = ['rock', 'paper', 'scissors']\n",
        "weights = [1,2,3]\n",
        "hand = random.choices(moves, weights)[0]\n",
        "print(hand)"
      ]
    },
    {
      "cell_type": "code",
      "source": [
        "myList = ['Red', 'Blue', 'Green', 'Black']\n",
        "\n",
        "for val in myList:\n",
        "   print (val)\n"
      ],
      "metadata": {
        "colab": {
          "base_uri": "https://localhost:8080/"
        },
        "id": "UQUhNN6z9jj7",
        "outputId": "eac84a1f-4dfb-49c8-8d80-769e685c55da"
      },
      "execution_count": null,
      "outputs": [
        {
          "output_type": "stream",
          "name": "stdout",
          "text": [
            "Red\n",
            "Blue\n",
            "Green\n",
            "Black\n"
          ]
        }
      ]
    }
  ]
}