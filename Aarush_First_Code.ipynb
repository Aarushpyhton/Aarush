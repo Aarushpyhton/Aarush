{
  "nbformat": 4,
  "nbformat_minor": 0,
  "metadata": {
    "colab": {
      "provenance": [],
      "toc_visible": true,
      "authorship_tag": "ABX9TyORq1DAUwkCrYsthl9K+WB6",
      "include_colab_link": true
    },
    "kernelspec": {
      "name": "python3",
      "display_name": "Python 3"
    },
    "language_info": {
      "name": "python"
    }
  },
  "cells": [
    {
      "cell_type": "markdown",
      "metadata": {
        "id": "view-in-github",
        "colab_type": "text"
      },
      "source": [
        "<a href=\"https://colab.research.google.com/github/Aarushpyhton/Aarush/blob/main/Aarush_First_Code.ipynb\" target=\"_parent\"><img src=\"https://colab.research.google.com/assets/colab-badge.svg\" alt=\"Open In Colab\"/></a>"
      ]
    },
    {
      "cell_type": "code",
      "source": [
        "print(\"how tall are you\")\n",
        "num=input()\n",
        "print(\"i am\", num, \"feet tall\")"
      ],
      "metadata": {
        "colab": {
          "base_uri": "https://localhost:8080/"
        },
        "id": "fq3X5awDjr1s",
        "outputId": "1aa62358-7116-41ab-9591-c36117ff9546"
      },
      "execution_count": 94,
      "outputs": [
        {
          "output_type": "stream",
          "name": "stdout",
          "text": [
            "how tall are you\n",
            "5.6\n",
            "i am 5.6 feet tall\n"
          ]
        }
      ]
    },
    {
      "cell_type": "code",
      "source": [
        "print(\"addition calculator\")\n",
        "num1= int(input (\"enter no\"))\n",
        "num2= int(input (\"enter no\"))\n",
        "print(\"your answer is\", num1+num2)"
      ],
      "metadata": {
        "colab": {
          "base_uri": "https://localhost:8080/"
        },
        "id": "5L9Rqdu5lGZB",
        "outputId": "51a585d4-ef52-4b44-df7f-b323c5f87c73"
      },
      "execution_count": 95,
      "outputs": [
        {
          "output_type": "stream",
          "name": "stdout",
          "text": [
            "addition calculator\n",
            "enter no 37\n",
            "enter no 45\n",
            "your answer is 82\n"
          ]
        }
      ]
    },
    {
      "cell_type": "code",
      "source": [
        "print(\"multiplication calculator\")\n",
        "num1=int(input(\"enter no\"))\n",
        "num2=int(input(\"enter no\"))\n",
        "print(\"your answer is\", num1*num2)"
      ],
      "metadata": {
        "colab": {
          "base_uri": "https://localhost:8080/"
        },
        "id": "haPGlX1xmtsx",
        "outputId": "66ac5a56-8a02-4510-bf1e-e310c9a8fc2d"
      },
      "execution_count": 96,
      "outputs": [
        {
          "output_type": "stream",
          "name": "stdout",
          "text": [
            "multiplication calculator\n",
            "enter no 45\n",
            "enter no 76\n",
            "your answer is 3420\n"
          ]
        }
      ]
    },
    {
      "cell_type": "code",
      "source": [
        "print(\"introduction\")\n",
        "num1= input(\"enter your name\")\n",
        "num2= input(\"enter your age\")\n",
        "print(\"my names is\",num1, \"and i am\", num2, \"years old\")"
      ],
      "metadata": {
        "colab": {
          "base_uri": "https://localhost:8080/"
        },
        "id": "twC-OScWn_HX",
        "outputId": "d980cf99-5018-415e-95be-36abe667bf95"
      },
      "execution_count": 97,
      "outputs": [
        {
          "output_type": "stream",
          "name": "stdout",
          "text": [
            "introduction\n",
            "enter your name aarush\n",
            "enter your age 16\n",
            "my names is  aarush and i am  16 years old\n"
          ]
        }
      ]
    },
    {
      "cell_type": "code",
      "source": [
        "num=input(\"enter your age\")\n",
        "print(\"you are\", num, \"years old\")"
      ],
      "metadata": {
        "colab": {
          "base_uri": "https://localhost:8080/"
        },
        "id": "34mH6ykKpqCz",
        "outputId": "a87d5dcc-d598-4a44-ee9d-daf1f48a5468"
      },
      "execution_count": 98,
      "outputs": [
        {
          "output_type": "stream",
          "name": "stdout",
          "text": [
            "enter your age 16\n",
            "you are  16 years old\n"
          ]
        }
      ]
    },
    {
      "cell_type": "code",
      "source": [
        "num1=input(\"enter your name\")\n",
        "num2=int(input(\"enter your current age\"))\n",
        "print(\"hello\", num1, \",5 years in future, you will be\", num2+5, (\"years old\") )"
      ],
      "metadata": {
        "colab": {
          "base_uri": "https://localhost:8080/"
        },
        "id": "M4WtXLreqILP",
        "outputId": "75758a6d-3517-444f-d4f5-a3ea336e62df"
      },
      "execution_count": 99,
      "outputs": [
        {
          "output_type": "stream",
          "name": "stdout",
          "text": [
            "enter your name aarush\n",
            "enter your current age 16\n",
            "hello  aarush ,5 years in future, you will be 21 years old\n"
          ]
        }
      ]
    }
  ]
}