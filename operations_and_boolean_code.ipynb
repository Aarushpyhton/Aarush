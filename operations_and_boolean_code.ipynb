{
  "nbformat": 4,
  "nbformat_minor": 0,
  "metadata": {
    "colab": {
      "provenance": [],
      "authorship_tag": "ABX9TyOLFClryosUnbBc+0/pAJeJ",
      "include_colab_link": true
    },
    "kernelspec": {
      "name": "python3",
      "display_name": "Python 3"
    },
    "language_info": {
      "name": "python"
    }
  },
  "cells": [
    {
      "cell_type": "markdown",
      "metadata": {
        "id": "view-in-github",
        "colab_type": "text"
      },
      "source": [
        "<a href=\"https://colab.research.google.com/github/Aarushpyhton/Aarush/blob/main/operations_and_boolean_code.ipynb\" target=\"_parent\"><img src=\"https://colab.research.google.com/assets/colab-badge.svg\" alt=\"Open In Colab\"/></a>"
      ]
    },
    {
      "cell_type": "code",
      "execution_count": null,
      "metadata": {
        "colab": {
          "base_uri": "https://localhost:8080/"
        },
        "id": "nANWe9LvovAa",
        "outputId": "1aa47621-792d-4178-d6e9-6766ddd6aeff"
      },
      "outputs": [
        {
          "output_type": "stream",
          "name": "stdout",
          "text": [
            "False\n",
            "True\n",
            "False\n"
          ]
        }
      ],
      "source": [
        "x=bool(10>5) # these function tell true or false\n",
        "y=bool(8<=2)\n",
        "print(x & y) # x and y\n",
        "print(x|y) # x or y\n",
        "print(not x) # it should not be x\n"
      ]
    },
    {
      "cell_type": "code",
      "source": [
        "print(\"welcome user\")\n",
        "num=int(input(\"please enter your age\"))\n",
        "print(f\"eligible to vote - {num >= 18}\")"
      ],
      "metadata": {
        "colab": {
          "base_uri": "https://localhost:8080/"
        },
        "id": "2kCIqs6yx_T8",
        "outputId": "71df10e2-6421-4326-bfb9-9981c1445960"
      },
      "execution_count": null,
      "outputs": [
        {
          "output_type": "stream",
          "name": "stdout",
          "text": [
            "welcome user\n",
            "please enter your age 17\n",
            "eligible to vote - False\n"
          ]
        }
      ]
    },
    {
      "cell_type": "code",
      "source": [
        "print(5%2) # \"% gives remainder\""
      ],
      "metadata": {
        "colab": {
          "base_uri": "https://localhost:8080/"
        },
        "id": "qbrxmMBvzxDP",
        "outputId": "a2af8d2f-dffe-4a43-c05b-b2722ad6a2d2"
      },
      "execution_count": null,
      "outputs": [
        {
          "output_type": "stream",
          "name": "stdout",
          "text": [
            "1\n"
          ]
        }
      ]
    },
    {
      "cell_type": "code",
      "source": [
        "a=int(input(\"enter number\"))\n",
        "b=int(input(\"enter number\"))\n",
        "print(f\"the remainder of {a}/{b} is {a%b}\")"
      ],
      "metadata": {
        "colab": {
          "base_uri": "https://localhost:8080/"
        },
        "id": "hU5KNnOm0Lox",
        "outputId": "d4fa45a5-e950-4553-954f-4c2faa1469ea"
      },
      "execution_count": null,
      "outputs": [
        {
          "output_type": "stream",
          "name": "stdout",
          "text": [
            "enter number 6\n",
            "enter number 4\n",
            "the remainder of 6/4 is 2\n"
          ]
        }
      ]
    },
    {
      "cell_type": "code",
      "source": [
        "print(\"welcome user\")\n",
        "num=int(input(\"please enter your age\"))\n",
        "if num<=18:\n",
        "      print(\"you are not eligible to vote\")\n",
        "\n",
        "else:\n",
        "      print(\"you are eligible to vote\")"
      ],
      "metadata": {
        "colab": {
          "base_uri": "https://localhost:8080/"
        },
        "id": "gLH0OGPY3ZYi",
        "outputId": "c4f2c8d8-bf56-4457-de44-a3cac36d3cad"
      },
      "execution_count": null,
      "outputs": [
        {
          "output_type": "stream",
          "name": "stdout",
          "text": [
            "welcome user\n",
            "please enter your age 19\n",
            "you are eligible to vote\n"
          ]
        }
      ]
    }
  ]
}