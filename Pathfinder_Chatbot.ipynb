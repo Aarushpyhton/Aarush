{
  "nbformat": 4,
  "nbformat_minor": 0,
  "metadata": {
    "colab": {
      "provenance": [],
      "authorship_tag": "ABX9TyMNutnRBrdWP2qW/sVKAWQl",
      "include_colab_link": true
    },
    "kernelspec": {
      "name": "python3",
      "display_name": "Python 3"
    },
    "language_info": {
      "name": "python"
    }
  },
  "cells": [
    {
      "cell_type": "markdown",
      "metadata": {
        "id": "view-in-github",
        "colab_type": "text"
      },
      "source": [
        "<a href=\"https://colab.research.google.com/github/Aarushpyhton/Aarush/blob/main/Pathfinder_Chatbot.ipynb\" target=\"_parent\"><img src=\"https://colab.research.google.com/assets/colab-badge.svg\" alt=\"Open In Colab\"/></a>"
      ]
    },
    {
      "cell_type": "code",
      "execution_count": null,
      "metadata": {
        "colab": {
          "base_uri": "https://localhost:8080/"
        },
        "id": "ESE30x6z2gFF",
        "outputId": "82810ca7-0156-4035-8220-53f113c49757"
      },
      "outputs": [
        {
          "output_type": "stream",
          "name": "stdout",
          "text": [
            "Requirement already satisfied: gradio in /usr/local/lib/python3.11/dist-packages (5.31.0)\n",
            "Requirement already satisfied: aiofiles<25.0,>=22.0 in /usr/local/lib/python3.11/dist-packages (from gradio) (24.1.0)\n",
            "Requirement already satisfied: anyio<5.0,>=3.0 in /usr/local/lib/python3.11/dist-packages (from gradio) (4.9.0)\n",
            "Requirement already satisfied: fastapi<1.0,>=0.115.2 in /usr/local/lib/python3.11/dist-packages (from gradio) (0.115.13)\n",
            "Requirement already satisfied: ffmpy in /usr/local/lib/python3.11/dist-packages (from gradio) (0.6.0)\n",
            "Requirement already satisfied: gradio-client==1.10.1 in /usr/local/lib/python3.11/dist-packages (from gradio) (1.10.1)\n",
            "Requirement already satisfied: groovy~=0.1 in /usr/local/lib/python3.11/dist-packages (from gradio) (0.1.2)\n",
            "Requirement already satisfied: httpx>=0.24.1 in /usr/local/lib/python3.11/dist-packages (from gradio) (0.28.1)\n",
            "Requirement already satisfied: huggingface-hub>=0.28.1 in /usr/local/lib/python3.11/dist-packages (from gradio) (0.33.0)\n",
            "Requirement already satisfied: jinja2<4.0 in /usr/local/lib/python3.11/dist-packages (from gradio) (3.1.6)\n",
            "Requirement already satisfied: markupsafe<4.0,>=2.0 in /usr/local/lib/python3.11/dist-packages (from gradio) (3.0.2)\n",
            "Requirement already satisfied: numpy<3.0,>=1.0 in /usr/local/lib/python3.11/dist-packages (from gradio) (2.0.2)\n",
            "Requirement already satisfied: orjson~=3.0 in /usr/local/lib/python3.11/dist-packages (from gradio) (3.10.18)\n",
            "Requirement already satisfied: packaging in /usr/local/lib/python3.11/dist-packages (from gradio) (24.2)\n",
            "Requirement already satisfied: pandas<3.0,>=1.0 in /usr/local/lib/python3.11/dist-packages (from gradio) (2.2.2)\n",
            "Requirement already satisfied: pillow<12.0,>=8.0 in /usr/local/lib/python3.11/dist-packages (from gradio) (11.2.1)\n",
            "Requirement already satisfied: pydantic<2.12,>=2.0 in /usr/local/lib/python3.11/dist-packages (from gradio) (2.11.7)\n",
            "Requirement already satisfied: pydub in /usr/local/lib/python3.11/dist-packages (from gradio) (0.25.1)\n",
            "Requirement already satisfied: python-multipart>=0.0.18 in /usr/local/lib/python3.11/dist-packages (from gradio) (0.0.20)\n",
            "Requirement already satisfied: pyyaml<7.0,>=5.0 in /usr/local/lib/python3.11/dist-packages (from gradio) (6.0.2)\n",
            "Requirement already satisfied: ruff>=0.9.3 in /usr/local/lib/python3.11/dist-packages (from gradio) (0.12.0)\n",
            "Requirement already satisfied: safehttpx<0.2.0,>=0.1.6 in /usr/local/lib/python3.11/dist-packages (from gradio) (0.1.6)\n",
            "Requirement already satisfied: semantic-version~=2.0 in /usr/local/lib/python3.11/dist-packages (from gradio) (2.10.0)\n",
            "Requirement already satisfied: starlette<1.0,>=0.40.0 in /usr/local/lib/python3.11/dist-packages (from gradio) (0.46.2)\n",
            "Requirement already satisfied: tomlkit<0.14.0,>=0.12.0 in /usr/local/lib/python3.11/dist-packages (from gradio) (0.13.3)\n",
            "Requirement already satisfied: typer<1.0,>=0.12 in /usr/local/lib/python3.11/dist-packages (from gradio) (0.16.0)\n",
            "Requirement already satisfied: typing-extensions~=4.0 in /usr/local/lib/python3.11/dist-packages (from gradio) (4.14.0)\n",
            "Requirement already satisfied: uvicorn>=0.14.0 in /usr/local/lib/python3.11/dist-packages (from gradio) (0.34.3)\n",
            "Requirement already satisfied: fsspec in /usr/local/lib/python3.11/dist-packages (from gradio-client==1.10.1->gradio) (2025.3.2)\n",
            "Requirement already satisfied: websockets<16.0,>=10.0 in /usr/local/lib/python3.11/dist-packages (from gradio-client==1.10.1->gradio) (15.0.1)\n",
            "Requirement already satisfied: idna>=2.8 in /usr/local/lib/python3.11/dist-packages (from anyio<5.0,>=3.0->gradio) (3.10)\n",
            "Requirement already satisfied: sniffio>=1.1 in /usr/local/lib/python3.11/dist-packages (from anyio<5.0,>=3.0->gradio) (1.3.1)\n",
            "Requirement already satisfied: certifi in /usr/local/lib/python3.11/dist-packages (from httpx>=0.24.1->gradio) (2025.6.15)\n",
            "Requirement already satisfied: httpcore==1.* in /usr/local/lib/python3.11/dist-packages (from httpx>=0.24.1->gradio) (1.0.9)\n",
            "Requirement already satisfied: h11>=0.16 in /usr/local/lib/python3.11/dist-packages (from httpcore==1.*->httpx>=0.24.1->gradio) (0.16.0)\n",
            "Requirement already satisfied: filelock in /usr/local/lib/python3.11/dist-packages (from huggingface-hub>=0.28.1->gradio) (3.18.0)\n",
            "Requirement already satisfied: requests in /usr/local/lib/python3.11/dist-packages (from huggingface-hub>=0.28.1->gradio) (2.32.3)\n",
            "Requirement already satisfied: tqdm>=4.42.1 in /usr/local/lib/python3.11/dist-packages (from huggingface-hub>=0.28.1->gradio) (4.67.1)\n",
            "Requirement already satisfied: hf-xet<2.0.0,>=1.1.2 in /usr/local/lib/python3.11/dist-packages (from huggingface-hub>=0.28.1->gradio) (1.1.5)\n",
            "Requirement already satisfied: python-dateutil>=2.8.2 in /usr/local/lib/python3.11/dist-packages (from pandas<3.0,>=1.0->gradio) (2.9.0.post0)\n",
            "Requirement already satisfied: pytz>=2020.1 in /usr/local/lib/python3.11/dist-packages (from pandas<3.0,>=1.0->gradio) (2025.2)\n",
            "Requirement already satisfied: tzdata>=2022.7 in /usr/local/lib/python3.11/dist-packages (from pandas<3.0,>=1.0->gradio) (2025.2)\n",
            "Requirement already satisfied: annotated-types>=0.6.0 in /usr/local/lib/python3.11/dist-packages (from pydantic<2.12,>=2.0->gradio) (0.7.0)\n",
            "Requirement already satisfied: pydantic-core==2.33.2 in /usr/local/lib/python3.11/dist-packages (from pydantic<2.12,>=2.0->gradio) (2.33.2)\n",
            "Requirement already satisfied: typing-inspection>=0.4.0 in /usr/local/lib/python3.11/dist-packages (from pydantic<2.12,>=2.0->gradio) (0.4.1)\n",
            "Requirement already satisfied: click>=8.0.0 in /usr/local/lib/python3.11/dist-packages (from typer<1.0,>=0.12->gradio) (8.2.1)\n",
            "Requirement already satisfied: shellingham>=1.3.0 in /usr/local/lib/python3.11/dist-packages (from typer<1.0,>=0.12->gradio) (1.5.4)\n",
            "Requirement already satisfied: rich>=10.11.0 in /usr/local/lib/python3.11/dist-packages (from typer<1.0,>=0.12->gradio) (13.9.4)\n",
            "Requirement already satisfied: six>=1.5 in /usr/local/lib/python3.11/dist-packages (from python-dateutil>=2.8.2->pandas<3.0,>=1.0->gradio) (1.17.0)\n",
            "Requirement already satisfied: markdown-it-py>=2.2.0 in /usr/local/lib/python3.11/dist-packages (from rich>=10.11.0->typer<1.0,>=0.12->gradio) (3.0.0)\n",
            "Requirement already satisfied: pygments<3.0.0,>=2.13.0 in /usr/local/lib/python3.11/dist-packages (from rich>=10.11.0->typer<1.0,>=0.12->gradio) (2.19.2)\n",
            "Requirement already satisfied: charset-normalizer<4,>=2 in /usr/local/lib/python3.11/dist-packages (from requests->huggingface-hub>=0.28.1->gradio) (3.4.2)\n",
            "Requirement already satisfied: urllib3<3,>=1.21.1 in /usr/local/lib/python3.11/dist-packages (from requests->huggingface-hub>=0.28.1->gradio) (2.4.0)\n",
            "Requirement already satisfied: mdurl~=0.1 in /usr/local/lib/python3.11/dist-packages (from markdown-it-py>=2.2.0->rich>=10.11.0->typer<1.0,>=0.12->gradio) (0.1.2)\n"
          ]
        }
      ],
      "source": [
        "!pip install gradio"
      ]
    },
    {
      "cell_type": "code",
      "source": [
        "import gradio as gr\n",
        "\n",
        "responses = {\n",
        "    \"hello\": \"To commence the compatibility test, write Start\",\n",
        "    \"start\": \"Do you enjoy solving logical puzzles, designing algorithms, or writing code? (Yes or No)\",\n",
        "    \"yes\": \"You have been given 1 CE point (2)\",\n",
        "    \"no\": \"You have been given 1 ME point (2)\",\n",
        "    \"2\": \"Do you find machines, engines, and physical systems fascinating and like understanding how they work? (Yep or Nope)\",\n",
        "    \"yep\": \"You have been given 1 ME point (3)\",\n",
        "    \"nope\": \"You have been given 1 CE point (3)\",\n",
        "    \"3\": \"Would you rather develop a mobile app or design a new type of engine? (mobile app or engine)\",\n",
        "    \"mobile app\": \"You have been given 1 CE point (4)\",\n",
        "    \"engine\": \"You have been given 1 ME point (4)\",\n",
        "    \"4\": \"Are you more comfortable thinking abstractly (e.g., about data structures, math logic) or spatially (e.g., imagining how gears or motors fit together)? (abstractly or spatially)\",\n",
        "    \"abstractly\": \"You have been given 1 CE point (5)\",\n",
        "    \"spatially\": \"You have been given 1 ME point (5)\",\n",
        "    \"5\": \"Do you like experimenting with hardware such as robots, 3D printers, drones? (I like it or I don't like it)\",\n",
        "    \"i like it\": \"You have been given 1 ME point (6)\",\n",
        "    \"i don't like it\": \"You have been given 1 CE point (6)\",\n",
        "    \"6\": \"Would you prefer optimizing software performance or improving mechanical efficiency? (software or mechanical)\",\n",
        "    \"software\": \"You have been given 1 CE point (7)\",\n",
        "    \"mechanical\": \"You have been given 1 ME point (7)\",\n",
        "    \"7\": \"Do you prefer learning new programming languages or new manufacturing methods? (languages or manufacturing)\",\n",
        "    \"languages\": \"You have been given 1 CE point (8)\",\n",
        "    \"manufacturing\": \"You have been given 1 ME point (8)\",\n",
        "    \"8\": \"Would you rather automate a factory using microcontrollers or build the conveyor system itself? (automate or build)\",\n",
        "    \"automate\": \"You have been given 1 CE point (9)\",\n",
        "    \"build\": \"You have been given 1 ME point (9)\",\n",
        "    \"9\": \"Do you see yourself working in a tech startup or an automobile plant? (startup or plant)\",\n",
        "    \"startup\": \"You have been given 1 CE point (End)\",\n",
        "    \"plant\": \"You have been given 1 ME point (End)\"\n",
        "}\n",
        "\n",
        "results = {\n",
        "    \"ce\": \"You are more compatible for computer engineering. It is a dynamic field that combines elements of electrical engineering and computer science to design and develop computer systems and hardware-software integration. It involves working with microprocessors, embedded systems, circuits, and programming to build everything from smartphones to intelligent devices. Computer engineers play a key role in advancing technologies such as artificial intelligence, cybersecurity, and the Internet of Things (IoT).\",\n",
        "    \"me\": \"You are more compatible for mechanical engineering. It is a core branch of engineering that focuses on the design, analysis, manufacturing, and maintenance of mechanical systems. It involves working with machines, engines, tools, and structures by applying principles of physics and materials science. Mechanical engineers often work on developing new technologies in areas like robotics, automobiles, aerospace, and energy systems.\"\n",
        "}\n",
        "\n",
        "def chatbot(user_input, state):\n",
        "    if state is None:\n",
        "        state = {\"chat\": [], \"ce\": 0, \"me\": 0}\n",
        "\n",
        "    user_input_clean = user_input.strip().lower()\n",
        "    response = responses.get(user_input_clean, \"Sorry! Couldn't get you...\")\n",
        "\n",
        "    # Score update\n",
        "    if \"1 ce point\" in response.lower():\n",
        "        state[\"ce\"] += 1\n",
        "    if \"1 me point\" in response.lower():\n",
        "        state[\"me\"] += 1\n",
        "\n",
        "    # End condition\n",
        "    if \"(end)\" in response.lower():\n",
        "        result_text = f\"Quiz complete! You got {state['ce']} CE points and {state['me']} ME points.\\n\\n\"\n",
        "        if state[\"ce\"] > state[\"me\"]:\n",
        "            result_text += results[\"ce\"]\n",
        "        else:\n",
        "            result_text += results[\"me\"]\n",
        "        response = result_text\n",
        "\n",
        "    state[\"chat\"].append((user_input, response))\n",
        "    return state[\"chat\"], state\n",
        "\n",
        "# Gradio interface\n",
        "app = gr.Interface(\n",
        "    fn=chatbot,\n",
        "    inputs=[\n",
        "        gr.Textbox(label=\"Your answer\"),\n",
        "        gr.State(value=None)\n",
        "    ],\n",
        "    outputs=[\n",
        "        gr.Chatbot(label=\"QuizBot\"),\n",
        "        gr.State()\n",
        "    ],\n",
        "    title=\"CE vs ME Compatibility Quiz\"\n",
        ")\n",
        "\n",
        "app.launch()\n",
        "\n"
      ],
      "metadata": {
        "colab": {
          "base_uri": "https://localhost:8080/",
          "height": 687
        },
        "id": "vzFpc2vV2oIj",
        "outputId": "2da1defb-e9dc-4436-a1df-1dd04ac87efe"
      },
      "execution_count": 6,
      "outputs": [
        {
          "output_type": "stream",
          "name": "stderr",
          "text": [
            "/tmp/ipython-input-6-3187604981.py:72: UserWarning: You have not specified a value for the `type` parameter. Defaulting to the 'tuples' format for chatbot messages, but this is deprecated and will be removed in a future version of Gradio. Please set type='messages' instead, which uses openai-style dictionaries with 'role' and 'content' keys.\n",
            "  gr.Chatbot(label=\"QuizBot\"),\n"
          ]
        },
        {
          "output_type": "stream",
          "name": "stdout",
          "text": [
            "It looks like you are running Gradio on a hosted Jupyter notebook, which requires `share=True`. Automatically setting `share=True` (you can turn this off by setting `share=False` in `launch()` explicitly).\n",
            "\n",
            "Colab notebook detected. To show errors in colab notebook, set debug=True in launch()\n",
            "* Running on public URL: https://4044df192730640e4c.gradio.live\n",
            "\n",
            "This share link expires in 1 week. For free permanent hosting and GPU upgrades, run `gradio deploy` from the terminal in the working directory to deploy to Hugging Face Spaces (https://huggingface.co/spaces)\n"
          ]
        },
        {
          "output_type": "display_data",
          "data": {
            "text/plain": [
              "<IPython.core.display.HTML object>"
            ],
            "text/html": [
              "<div><iframe src=\"https://4044df192730640e4c.gradio.live\" width=\"100%\" height=\"500\" allow=\"autoplay; camera; microphone; clipboard-read; clipboard-write;\" frameborder=\"0\" allowfullscreen></iframe></div>"
            ]
          },
          "metadata": {}
        },
        {
          "output_type": "execute_result",
          "data": {
            "text/plain": []
          },
          "metadata": {},
          "execution_count": 6
        }
      ]
    }
  ]
}